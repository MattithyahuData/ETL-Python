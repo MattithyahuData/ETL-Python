{
 "cells": [
  {
   "cell_type": "markdown",
   "metadata": {},
   "source": [
    "### **ETL in Python with PostgreSQL** "
   ]
  },
  {
   "cell_type": "code",
   "execution_count": 9,
   "metadata": {},
   "outputs": [],
   "source": [
    "# Importing dependencies \n",
    "import pandas as pd\n",
    "from sqlalchemy import create_engine\n",
    "import psycopg2"
   ]
  },
  {
   "cell_type": "code",
   "execution_count": 10,
   "metadata": {},
   "outputs": [
    {
     "data": {
      "text/plain": [
       "Gender    object\n",
       "Age        int64\n",
       "Name      object\n",
       "dtype: object"
      ]
     },
     "execution_count": 10,
     "metadata": {},
     "output_type": "execute_result"
    }
   ],
   "source": [
    "# Reading csv to dataframe\n",
    "df = pd.read_csv('../Data/data.txt')\n",
    "\n",
    "# Viewing dataset\n",
    "df\n",
    "df.dtypes"
   ]
  },
  {
   "cell_type": "code",
   "execution_count": 11,
   "metadata": {},
   "outputs": [],
   "source": [
    "def ETL_PostgreSQL(db,tablename,pw):\n",
    "  \"\"\"\n",
    "    :param db: Destination Database name MUST ALREADY EXIST\n",
    "    :param tablename: Created table name\n",
    "    :param pw: Enter password\n",
    "   \n",
    "    \"\"\"\n",
    "  # SQL table header format\n",
    "  tablename = tablename.lower()\n",
    "  tablename = tablename.replace(' ','_')\n",
    "\n",
    "  # engine = create_engine('mysql+pymysql://root:localhost/test', pool_recycle=3306)\n",
    "  engine = create_engine(\"postgresql://{user}:{pw}@{host}:5432/{db}\".format(host=\"localhost\", db=db, user=\"postgres\", pw=pw))\n",
    "\n",
    "  # Convert dataframe to sql table                                   \n",
    "  df.to_sql('{tb}'.format(tb=tablename), engine, index=False)\n",
    "  return(\"ETL Successful, {num} rows loaded in table {tb}.\".format(num=len(df['Gender']), tb=tablename))"
   ]
  },
  {
   "cell_type": "code",
   "execution_count": 12,
   "metadata": {},
   "outputs": [
    {
     "data": {
      "text/plain": [
       "'ETL Successful, 2 rows loaded in table this_is_a_test.'"
      ]
     },
     "execution_count": 12,
     "metadata": {},
     "output_type": "execute_result"
    }
   ],
   "source": [
    "ETL_PostgreSQL(\"TEST\",\"THIS IS A TEST\",\"[USER INSTANCE PASSWORD]\")"
   ]
  }
 ],
 "metadata": {
  "interpreter": {
   "hash": "a5bcefd55bfdb50b3e1e12da9a23e2841763687adcef6d44cab565b8ec2bab14"
  },
  "kernelspec": {
   "display_name": "Python 3.8.12 64-bit ('P1': conda)",
   "language": "python",
   "name": "python3"
  },
  "language_info": {
   "codemirror_mode": {
    "name": "ipython",
    "version": 3
   },
   "file_extension": ".py",
   "mimetype": "text/x-python",
   "name": "python",
   "nbconvert_exporter": "python",
   "pygments_lexer": "ipython3",
   "version": "3.8.12"
  },
  "orig_nbformat": 4
 },
 "nbformat": 4,
 "nbformat_minor": 2
}
