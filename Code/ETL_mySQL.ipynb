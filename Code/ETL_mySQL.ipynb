{
 "cells": [
  {
   "cell_type": "markdown",
   "metadata": {},
   "source": [
    "### **ETL in Python with MySQL** "
   ]
  },
  {
   "cell_type": "code",
   "execution_count": 1,
   "metadata": {},
   "outputs": [],
   "source": [
    "# Importing dependencies \n",
    "import pandas as pd\n",
    "from sqlalchemy import create_engine\n",
    "import pymysql"
   ]
  },
  {
   "cell_type": "code",
   "execution_count": 2,
   "metadata": {},
   "outputs": [
    {
     "data": {
      "text/html": [
       "<div>\n",
       "<style scoped>\n",
       "    .dataframe tbody tr th:only-of-type {\n",
       "        vertical-align: middle;\n",
       "    }\n",
       "\n",
       "    .dataframe tbody tr th {\n",
       "        vertical-align: top;\n",
       "    }\n",
       "\n",
       "    .dataframe thead th {\n",
       "        text-align: right;\n",
       "    }\n",
       "</style>\n",
       "<table border=\"1\" class=\"dataframe\">\n",
       "  <thead>\n",
       "    <tr style=\"text-align: right;\">\n",
       "      <th></th>\n",
       "      <th>Gender</th>\n",
       "      <th>Age</th>\n",
       "      <th>Name</th>\n",
       "    </tr>\n",
       "  </thead>\n",
       "  <tbody>\n",
       "    <tr>\n",
       "      <th>0</th>\n",
       "      <td>M</td>\n",
       "      <td>20</td>\n",
       "      <td>Mike</td>\n",
       "    </tr>\n",
       "    <tr>\n",
       "      <th>1</th>\n",
       "      <td>F</td>\n",
       "      <td>54</td>\n",
       "      <td>Lara</td>\n",
       "    </tr>\n",
       "  </tbody>\n",
       "</table>\n",
       "</div>"
      ],
      "text/plain": [
       "  Gender  Age  Name\n",
       "0      M   20  Mike\n",
       "1      F   54  Lara"
      ]
     },
     "execution_count": 2,
     "metadata": {},
     "output_type": "execute_result"
    }
   ],
   "source": [
    "# Reading csv to dataframe\n",
    "df = pd.read_csv('../Data/data.txt')\n",
    "\n",
    "# Viewing dataset\n",
    "df"
   ]
  },
  {
   "cell_type": "code",
   "execution_count": 3,
   "metadata": {},
   "outputs": [],
   "source": [
    "def ETL_MySQL(db,tablename,pw):\n",
    "  \"\"\"\n",
    "    :param db: Destination Database name MUST ALREADY EXIST\n",
    "    :param tablename: Created table name\n",
    "    :param pw: Enter password\n",
    "   \n",
    "    \"\"\"\n",
    "  # SQL table header format\n",
    "  tablename = tablename.lower()\n",
    "  tablename = tablename.replace(' ','_')\n",
    "\n",
    "  # engine = create_engine('mysql+pymysql://root:localhost/test', pool_recycle=3306)\n",
    "  engine = create_engine(\"mysql+pymysql://{user}:{pw}@{host}/{db}\".format(host=\"localhost\", db=db, user=\"root\", pw=pw))\n",
    "\n",
    "  # Convert dataframe to sql table                                   \n",
    "  df.to_sql('{tb}'.format(tb=tablename), engine, index=False, if_exists='replace')\n",
    "  return(\"ETL Successful, {num} rows loaded in table {tb}.\".format(num=len(df['Gender']), tb=tablename))\n"
   ]
  },
  {
   "cell_type": "code",
   "execution_count": 4,
   "metadata": {},
   "outputs": [
    {
     "data": {
      "text/plain": [
       "'ETL Successful, 2 rows loaded in table this_is_a_test.'"
      ]
     },
     "execution_count": 4,
     "metadata": {},
     "output_type": "execute_result"
    }
   ],
   "source": [
    "ETL_MySQL(\"test\",\"THIS IS A TEST\",\"[USER INSTANCE PASSWORD]\")"
   ]
  }
 ],
 "metadata": {
  "interpreter": {
   "hash": "4da2741f6b1975bb35bada488a76be44927fbd0fc9952eadf4a4b5e30d318ea9"
  },
  "kernelspec": {
   "display_name": "Python 3.8.12 64-bit ('ETL': conda)",
   "language": "python",
   "name": "python3"
  },
  "language_info": {
   "codemirror_mode": {
    "name": "ipython",
    "version": 3
   },
   "file_extension": ".py",
   "mimetype": "text/x-python",
   "name": "python",
   "nbconvert_exporter": "python",
   "pygments_lexer": "ipython3",
   "version": "3.8.12"
  },
  "orig_nbformat": 4
 },
 "nbformat": 4,
 "nbformat_minor": 2
}
