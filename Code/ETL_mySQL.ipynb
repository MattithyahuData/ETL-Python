{
 "cells": [
  {
   "cell_type": "markdown",
   "metadata": {},
   "source": [
    "### **ETL in Python with MySQL** "
   ]
  },
  {
   "cell_type": "code",
   "execution_count": 14,
   "metadata": {},
   "outputs": [],
   "source": [
    "# Importing dependencies \n",
    "import pandas as pd\n",
    "from sqlalchemy import create_engine\n",
    "import pymysql"
   ]
  },
  {
   "cell_type": "code",
   "execution_count": 15,
   "metadata": {},
   "outputs": [
    {
     "data": {
      "text/plain": [
       "Gender    object\n",
       "Age        int64\n",
       "Name      object\n",
       "dtype: object"
      ]
     },
     "execution_count": 15,
     "metadata": {},
     "output_type": "execute_result"
    }
   ],
   "source": [
    "# Reading csv to dataframe\n",
    "df = pd.read_csv('../Data/data.txt')\n",
    "\n",
    "# Viewing dataset\n",
    "df\n",
    "df.dtypes"
   ]
  },
  {
   "cell_type": "code",
   "execution_count": 16,
   "metadata": {},
   "outputs": [],
   "source": [
    "def ETL_MySQL(db,tablename,pw):\n",
    "  \"\"\"\n",
    "    :param db: Destination Database name MUST ALREADY EXIST\n",
    "    :param tablename: Created table name\n",
    "    :param pw: Enter password\n",
    "   \n",
    "    \"\"\"\n",
    "  # SQL table header format\n",
    "  tablename = tablename.lower()\n",
    "  tablename = tablename.replace(' ','_')\n",
    "\n",
    "  # engine = create_engine('mysql+pymysql://root:localhost/test', pool_recycle=3306)\n",
    "  engine = create_engine(\"mysql+pymysql://{user}:{pw}@{host}/{db}\".format(host=\"localhost\", db=db, user=\"root\", pw=pw))\n",
    "\n",
    "  # Convert dataframe to sql table                                   \n",
    "  df.to_sql('{tb}'.format(tb=tablename), engine, index=False)\n",
    "  return(\"ETL Successful, {num} rows loaded in table {tb}.\".format(num=len(df['Gender']), tb=tablename))\n"
   ]
  },
  {
   "cell_type": "code",
   "execution_count": 17,
   "metadata": {},
   "outputs": [
    {
     "data": {
      "text/plain": [
       "'ETL Successful, 2 rows loaded in table this_is_a_test.'"
      ]
     },
     "execution_count": 17,
     "metadata": {},
     "output_type": "execute_result"
    }
   ],
   "source": [
    "ETL_MySQL(\"test\",\"THIS IS A TEST\",\"[USER INSTANCE PASSWORD]\")"
   ]
  }
 ],
 "metadata": {
  "interpreter": {
   "hash": "4da2741f6b1975bb35bada488a76be44927fbd0fc9952eadf4a4b5e30d318ea9"
  },
  "kernelspec": {
   "display_name": "Python 3.8.12 64-bit ('ETL': conda)",
   "language": "python",
   "name": "python3"
  },
  "language_info": {
   "codemirror_mode": {
    "name": "ipython",
    "version": 3
   },
   "file_extension": ".py",
   "mimetype": "text/x-python",
   "name": "python",
   "nbconvert_exporter": "python",
   "pygments_lexer": "ipython3",
   "version": "3.8.12"
  },
  "orig_nbformat": 4
 },
 "nbformat": 4,
 "nbformat_minor": 2
}
