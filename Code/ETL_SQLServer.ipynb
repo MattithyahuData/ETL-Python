{
 "cells": [
  {
   "cell_type": "markdown",
   "metadata": {},
   "source": [
    "## **ETL in Python with SQL Server** "
   ]
  },
  {
   "cell_type": "markdown",
   "metadata": {},
   "source": [
    "Aim: texttttttttttttttttttttttttttttttttt"
   ]
  },
  {
   "cell_type": "code",
   "execution_count": 34,
   "metadata": {},
   "outputs": [],
   "source": [
    "# Importing dependencies \n",
    "import pandas as pd\n",
    "import pyodbc"
   ]
  },
  {
   "cell_type": "code",
   "execution_count": 35,
   "metadata": {},
   "outputs": [],
   "source": [
    "# \"Copyright Mattithyahu 2021-%s\" % (\"Ongoing\")\n",
    "# Format must be within the same parantheses or function call will not work \n",
    "\n",
    "# Example\n",
    "\n",
    "# \"Hello %s, my last name is %s\" % ('john', 'doe') # Hello john, my last name is doe\".If you are using ints instead of string, use %d instead of %s.\n",
    "# \"My name is %s and i'm %d\" % ('john doe', 12) #My name is john doe and i'm 12\n"
   ]
  },
  {
   "cell_type": "code",
   "execution_count": 36,
   "metadata": {},
   "outputs": [
    {
     "data": {
      "text/html": [
       "<div>\n",
       "<style scoped>\n",
       "    .dataframe tbody tr th:only-of-type {\n",
       "        vertical-align: middle;\n",
       "    }\n",
       "\n",
       "    .dataframe tbody tr th {\n",
       "        vertical-align: top;\n",
       "    }\n",
       "\n",
       "    .dataframe thead th {\n",
       "        text-align: right;\n",
       "    }\n",
       "</style>\n",
       "<table border=\"1\" class=\"dataframe\">\n",
       "  <thead>\n",
       "    <tr style=\"text-align: right;\">\n",
       "      <th></th>\n",
       "      <th>Gender</th>\n",
       "      <th>Age</th>\n",
       "      <th>Name</th>\n",
       "    </tr>\n",
       "  </thead>\n",
       "  <tbody>\n",
       "    <tr>\n",
       "      <th>0</th>\n",
       "      <td>M</td>\n",
       "      <td>20</td>\n",
       "      <td>Mike</td>\n",
       "    </tr>\n",
       "    <tr>\n",
       "      <th>1</th>\n",
       "      <td>F</td>\n",
       "      <td>54</td>\n",
       "      <td>Lara</td>\n",
       "    </tr>\n",
       "  </tbody>\n",
       "</table>\n",
       "</div>"
      ],
      "text/plain": [
       "  Gender  Age  Name\n",
       "0      M   20  Mike\n",
       "1      F   54  Lara"
      ]
     },
     "execution_count": 36,
     "metadata": {},
     "output_type": "execute_result"
    }
   ],
   "source": [
    "# Reading csv to dataframe\n",
    "df = pd.read_csv('../Data/data.txt')\n",
    "\n",
    "# Viewing dataset\n",
    "df"
   ]
  },
  {
   "cell_type": "code",
   "execution_count": 37,
   "metadata": {},
   "outputs": [],
   "source": [
    "# SQL Server ETL\n",
    "df = pd.read_csv('../Data/data.txt')\n",
    "\n",
    "# Establishing server connection\n",
    "def ETL1(Server,db):\n",
    "    \"\"\"\n",
    "    SQL Server Database Server name\n",
    "    SQL Server Database name\n",
    "    Database table name\n",
    "    \n",
    "    \"\"\"\n",
    "    \n",
    "    conn = pyodbc.connect('Driver={SQL Server};'\n",
    "                        'Server=%s;' \n",
    "                        'Database=%s;' \n",
    "                        'Trusted_Connection=yes;'\n",
    "                        % (Server,db))\n",
    "    cursor = conn.cursor()\n",
    "\n",
    "# Creating SQL table and loading data\n",
    "def ETL2(tablename):\n",
    "    cursor.execute('''\n",
    "            CREATE TABLE %s (\n",
    "                Gender varchar(50),\n",
    "                Age int,\n",
    "                Name varchar(50)\n",
    "                )\n",
    "                '''% (tablename))\n",
    "\n",
    "    # Insert DataFrame to Table\n",
    "    for row in df.itertuples():\n",
    "        cursor.execute('''\n",
    "                    INSERT INTO %s (Gender, Age, Name)\n",
    "                    VALUES (?,?,?)\n",
    "                    ''' % (tablename),\n",
    "                    row.Gender,\n",
    "                    row.Age,\n",
    "                    row.Name\n",
    "                    )\n",
    "    conn.commit()"
   ]
  },
  {
   "cell_type": "code",
   "execution_count": null,
   "metadata": {},
   "outputs": [],
   "source": [
    "ETL1('{ENTER SERVERNAME}','{ENTER DATABASENAME}')\n",
    "ETL2('{ENTER TABLENAME}')"
   ]
  }
 ],
 "metadata": {
  "interpreter": {
   "hash": "a5bcefd55bfdb50b3e1e12da9a23e2841763687adcef6d44cab565b8ec2bab14"
  },
  "kernelspec": {
   "display_name": "Python 3.8.12 64-bit ('P1': conda)",
   "language": "python",
   "name": "python3"
  },
  "language_info": {
   "codemirror_mode": {
    "name": "ipython",
    "version": 3
   },
   "file_extension": ".py",
   "mimetype": "text/x-python",
   "name": "python",
   "nbconvert_exporter": "python",
   "pygments_lexer": "ipython3",
   "version": "3.8.12"
  },
  "orig_nbformat": 4
 },
 "nbformat": 4,
 "nbformat_minor": 2
}
