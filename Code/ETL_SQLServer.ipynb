{
 "cells": [
  {
   "cell_type": "markdown",
   "metadata": {},
   "source": [
    "## **ETL in Python with SQL Server** "
   ]
  },
  {
   "cell_type": "code",
   "execution_count": 34,
   "metadata": {},
   "outputs": [],
   "source": [
    "# Importing dependencies \n",
    "import pandas as pd\n",
    "import pyodbc"
   ]
  },
  {
   "cell_type": "code",
   "execution_count": 35,
   "metadata": {},
   "outputs": [],
   "source": [
    "# \"Copyright Mattithyahu 2021-%s\" % (\"Ongoing\")\n",
    "# Format must be within the same parantheses or function call will not work \n",
    "\n",
    "# Example\n",
    "\n",
    "# \"Hello %s, my last name is %s\" % ('john', 'doe') # Hello john, my last name is doe\".If you are using ints instead of string, use %d instead of %s.\n",
    "# \"My name is %s and i'm %d\" % ('john doe', 12) #My name is john doe and i'm 12\n"
   ]
  },
  {
   "cell_type": "code",
   "execution_count": 36,
   "metadata": {},
   "outputs": [
    {
     "data": {
      "text/html": [
       "<div>\n",
       "<style scoped>\n",
       "    .dataframe tbody tr th:only-of-type {\n",
       "        vertical-align: middle;\n",
       "    }\n",
       "\n",
       "    .dataframe tbody tr th {\n",
       "        vertical-align: top;\n",
       "    }\n",
       "\n",
       "    .dataframe thead th {\n",
       "        text-align: right;\n",
       "    }\n",
       "</style>\n",
       "<table border=\"1\" class=\"dataframe\">\n",
       "  <thead>\n",
       "    <tr style=\"text-align: right;\">\n",
       "      <th></th>\n",
       "      <th>Gender</th>\n",
       "      <th>Age</th>\n",
       "      <th>Name</th>\n",
       "    </tr>\n",
       "  </thead>\n",
       "  <tbody>\n",
       "    <tr>\n",
       "      <th>0</th>\n",
       "      <td>M</td>\n",
       "      <td>20</td>\n",
       "      <td>Mike</td>\n",
       "    </tr>\n",
       "    <tr>\n",
       "      <th>1</th>\n",
       "      <td>F</td>\n",
       "      <td>54</td>\n",
       "      <td>Lara</td>\n",
       "    </tr>\n",
       "  </tbody>\n",
       "</table>\n",
       "</div>"
      ],
      "text/plain": [
       "  Gender  Age  Name\n",
       "0      M   20  Mike\n",
       "1      F   54  Lara"
      ]
     },
     "execution_count": 36,
     "metadata": {},
     "output_type": "execute_result"
    }
   ],
   "source": [
    "# Reading csv to dataframe\n",
    "df = pd.read_csv('../Data/data.txt')\n",
    "\n",
    "# Viewing dataset\n",
    "df"
   ]
  },
  {
   "cell_type": "code",
   "execution_count": 37,
   "metadata": {},
   "outputs": [],
   "source": [
    "# SQL Server ETL\n",
    "df = pd.read_csv('../Data/data.txt')\n",
    "\n",
    "def ETL1(Server,db):\n",
    "    \"\"\"\n",
    "    SQL Server Database Server name\n",
    "    SQL Server Database name\n",
    "    Database table name\n",
    "    \n",
    "    \"\"\"\n",
    "    \n",
    "    conn = pyodbc.connect('Driver={SQL Server};'\n",
    "                        'Server=%s;' \n",
    "                        'Database=%s;' \n",
    "                        'Trusted_Connection=yes;'\n",
    "                        % (Server,db))\n",
    "    cursor = conn.cursor()\n",
    "\n",
    "def ETL2(tablename):\n",
    "    # Create Table\n",
    "    cursor.execute('''\n",
    "            CREATE TABLE %s (\n",
    "                Gender varchar(50),\n",
    "                Age int,\n",
    "                Name varchar(50)\n",
    "                )\n",
    "                '''% (tablename))\n",
    "\n",
    "    # Insert DataFrame to Table\n",
    "    for row in df.itertuples():\n",
    "        cursor.execute('''\n",
    "                    INSERT INTO %s (Gender, Age, Name)\n",
    "                    VALUES (?,?,?)\n",
    "                    ''' % (tablename),\n",
    "                    row.Gender,\n",
    "                    row.Age,\n",
    "                    row.Name\n",
    "                    )\n",
    "    conn.commit()"
   ]
  },
  {
   "cell_type": "code",
   "execution_count": 38,
   "metadata": {},
   "outputs": [
    {
     "ename": "ProgrammingError",
     "evalue": "('42S01', \"[42S01] [Microsoft][ODBC SQL Server Driver][SQL Server]There is already an object named 'FREEDOM' in the database. (2714) (SQLExecDirectW)\")",
     "output_type": "error",
     "traceback": [
      "\u001b[1;31m---------------------------------------------------------------------------\u001b[0m",
      "\u001b[1;31mProgrammingError\u001b[0m                          Traceback (most recent call last)",
      "\u001b[1;32m~\\AppData\\Local\\Temp/ipykernel_50732/3230566070.py\u001b[0m in \u001b[0;36m<module>\u001b[1;34m\u001b[0m\n\u001b[0;32m      1\u001b[0m \u001b[0mETL1\u001b[0m\u001b[1;33m(\u001b[0m\u001b[1;34m'DESKTOP-I9HIN85'\u001b[0m\u001b[1;33m,\u001b[0m\u001b[1;34m'Projects'\u001b[0m\u001b[1;33m)\u001b[0m\u001b[1;33m\u001b[0m\u001b[1;33m\u001b[0m\u001b[0m\n\u001b[1;32m----> 2\u001b[1;33m \u001b[0mETL2\u001b[0m\u001b[1;33m(\u001b[0m\u001b[1;34m'FREEDOM'\u001b[0m\u001b[1;33m)\u001b[0m\u001b[1;33m\u001b[0m\u001b[1;33m\u001b[0m\u001b[0m\n\u001b[0m",
      "\u001b[1;32m~\\AppData\\Local\\Temp/ipykernel_50732/4135260936.py\u001b[0m in \u001b[0;36mETL2\u001b[1;34m(tablename)\u001b[0m\n\u001b[0;32m     19\u001b[0m \u001b[1;32mdef\u001b[0m \u001b[0mETL2\u001b[0m\u001b[1;33m(\u001b[0m\u001b[0mtablename\u001b[0m\u001b[1;33m)\u001b[0m\u001b[1;33m:\u001b[0m\u001b[1;33m\u001b[0m\u001b[1;33m\u001b[0m\u001b[0m\n\u001b[0;32m     20\u001b[0m     \u001b[1;31m# Create Table\u001b[0m\u001b[1;33m\u001b[0m\u001b[1;33m\u001b[0m\u001b[1;33m\u001b[0m\u001b[0m\n\u001b[1;32m---> 21\u001b[1;33m     cursor.execute('''\n\u001b[0m\u001b[0;32m     22\u001b[0m             CREATE TABLE %s (\n\u001b[0;32m     23\u001b[0m                 \u001b[0mGender\u001b[0m \u001b[0mvarchar\u001b[0m\u001b[1;33m(\u001b[0m\u001b[1;36m50\u001b[0m\u001b[1;33m)\u001b[0m\u001b[1;33m,\u001b[0m\u001b[1;33m\u001b[0m\u001b[1;33m\u001b[0m\u001b[0m\n",
      "\u001b[1;31mProgrammingError\u001b[0m: ('42S01', \"[42S01] [Microsoft][ODBC SQL Server Driver][SQL Server]There is already an object named 'FREEDOM' in the database. (2714) (SQLExecDirectW)\")"
     ]
    }
   ],
   "source": [
    "ETL1('DESKTOP-I9HIN85','Projects')\n",
    "ETL2('FREEDOM')"
   ]
  }
 ],
 "metadata": {
  "interpreter": {
   "hash": "a5bcefd55bfdb50b3e1e12da9a23e2841763687adcef6d44cab565b8ec2bab14"
  },
  "kernelspec": {
   "display_name": "Python 3.8.12 64-bit ('P1': conda)",
   "language": "python",
   "name": "python3"
  },
  "language_info": {
   "codemirror_mode": {
    "name": "ipython",
    "version": 3
   },
   "file_extension": ".py",
   "mimetype": "text/x-python",
   "name": "python",
   "nbconvert_exporter": "python",
   "pygments_lexer": "ipython3",
   "version": "3.8.12"
  },
  "orig_nbformat": 4
 },
 "nbformat": 4,
 "nbformat_minor": 2
}
