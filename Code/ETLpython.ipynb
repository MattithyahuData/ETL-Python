{
 "cells": [
  {
   "cell_type": "code",
   "execution_count": null,
   "metadata": {},
   "outputs": [],
   "source": [
    "#\n",
    "import pandas as pd\n",
    "import pyodbc"
   ]
  },
  {
   "cell_type": "code",
   "execution_count": null,
   "metadata": {},
   "outputs": [],
   "source": [
    "df = pd.read_csv('../Data/top_4000_movies_data.csv')\n",
    "\n",
    "conn = pyodbc.connect('Driver={SQL Server};'\n",
    "                      'Server=DESKTOP-I9HIN85;'\n",
    "                      'Database=EURUSD;'\n",
    "                      'Trusted_Connection=yes;')\n",
    "cursor = conn.cursor()\n",
    "\n",
    "# Create Table\n",
    "cursor.execute('''\n",
    "\t\tCREATE TABLE EURUSD1506 (\n",
    "\t\t\tTime datetime,\n",
    "\t\t\topen_price float,\n",
    "            close_price float, \n",
    "            High_price float,\n",
    "            Low_price float\n",
    "\t\t\t)\n",
    "               ''')\n",
    "\n",
    "# Insert DataFrame to Table\n",
    "for row in df.itertuples():\n",
    "    cursor.execute('''\n",
    "                INSERT INTO EURUSD1506 (Time, open_price, close_price, High_price, Low_price)\n",
    "                VALUES (?,?,?,?,?)\n",
    "                ''',\n",
    "\t\t\t    row.time,\n",
    "\t\t\t    row.open,\n",
    "                row.close, \n",
    "                row.high,\n",
    "                row.low\n",
    "\t\t\t    )\n",
    "conn.commit()"
   ]
  }
 ],
 "metadata": {
  "interpreter": {
   "hash": "a5bcefd55bfdb50b3e1e12da9a23e2841763687adcef6d44cab565b8ec2bab14"
  },
  "kernelspec": {
   "display_name": "Python 3.8.12 64-bit ('P1': conda)",
   "language": "python",
   "name": "python3"
  },
  "language_info": {
   "name": "python",
   "version": "3.8.12"
  },
  "orig_nbformat": 4
 },
 "nbformat": 4,
 "nbformat_minor": 2
}
